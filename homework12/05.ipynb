{
  "nbformat": 4,
  "nbformat_minor": 0,
  "metadata": {
    "colab": {
      "provenance": [],
      "authorship_tag": "ABX9TyN7ueKEt0lDCwbdz2j4B/Jk",
      "include_colab_link": true
    },
    "kernelspec": {
      "name": "python3",
      "display_name": "Python 3"
    },
    "language_info": {
      "name": "python"
    }
  },
  "cells": [
    {
      "cell_type": "markdown",
      "metadata": {
        "id": "view-in-github",
        "colab_type": "text"
      },
      "source": [
        "<a href=\"https://colab.research.google.com/github/SavenkoSofia/Class/blob/main/homework12/05.ipynb\" target=\"_parent\"><img src=\"https://colab.research.google.com/assets/colab-badge.svg\" alt=\"Open In Colab\"/></a>"
      ]
    },
    {
      "cell_type": "code",
      "execution_count": 1,
      "metadata": {
        "colab": {
          "base_uri": "https://localhost:8080/",
          "height": 130
        },
        "id": "-GyL5YpR9OKG",
        "outputId": "69422c47-d1bc-47dc-f669-b3104b4de138"
      },
      "outputs": [
        {
          "output_type": "error",
          "ename": "SyntaxError",
          "evalue": "ignored",
          "traceback": [
            "\u001b[0;36m  File \u001b[0;32m\"<ipython-input-1-66cda8c2bffa>\"\u001b[0;36m, line \u001b[0;32m6\u001b[0m\n\u001b[0;31m    \"color: \"red\"\u001b[0m\n\u001b[0m                ^\u001b[0m\n\u001b[0;31mSyntaxError\u001b[0m\u001b[0;31m:\u001b[0m unterminated string literal (detected at line 6)\n"
          ]
        }
      ],
      "source": [
        "\n",
        "cars = {}\n",
        "\n",
        "car1 = {\n",
        "      \"car brand\": \"Mazda\",\n",
        "    \"year\": 2017,\n",
        "    \"color: \"red\"\n",
        "\n",
        "}\n",
        "\n",
        "car2 = {\n",
        "      \"car brand\": \"BMW\",\n",
        "    \"year\": 2018,\n",
        "    \"color: \"grey\"\n",
        "\n",
        "}\n",
        "\n",
        "\n",
        "car3 = {\n",
        "      \"car brand\": \"Mercedes\",\n",
        "    \"year\": 2013,\n",
        "    \"color: \"black\"\n",
        "\n",
        "}\n",
        "\n",
        "print(cars)"
      ]
    }
  ]
}