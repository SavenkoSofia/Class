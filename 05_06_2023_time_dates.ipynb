{
  "nbformat": 4,
  "nbformat_minor": 0,
  "metadata": {
    "colab": {
      "provenance": [],
      "authorship_tag": "ABX9TyOzQ+WrZSizEvTYfH2bn9aC",
      "include_colab_link": true
    },
    "kernelspec": {
      "name": "python3",
      "display_name": "Python 3"
    },
    "language_info": {
      "name": "python"
    }
  },
  "cells": [
    {
      "cell_type": "markdown",
      "metadata": {
        "id": "view-in-github",
        "colab_type": "text"
      },
      "source": [
        "<a href=\"https://colab.research.google.com/github/SavenkoSofia/Class/blob/main/05_06_2023_time_dates.ipynb\" target=\"_parent\"><img src=\"https://colab.research.google.com/assets/colab-badge.svg\" alt=\"Open In Colab\"/></a>"
      ]
    },
    {
      "cell_type": "code",
      "execution_count": 29,
      "metadata": {
        "colab": {
          "base_uri": "https://localhost:8080/"
        },
        "id": "kQSrA9XhQAIB",
        "outputId": "8ee3956c-3dcd-4daa-d789-81f64d4cf836"
      },
      "outputs": [
        {
          "output_type": "stream",
          "name": "stdout",
          "text": [
            "Now is 05 June 12:42:26\n",
            "Future is 19 June 12:56:40\n"
          ]
        }
      ],
      "source": [
        "import datetime\n",
        "\n",
        "now = datetime.datetime.now()\n",
        "print(now.strftime(\"Now is %d %B %H:%M:%S\"))\n",
        "\n",
        "from datetime import timedelta\n",
        "delta = timedelta(days=14, hours=0, minutes=14, seconds=14)\n",
        "datetimethen = now + delta\n",
        "\n",
        "print(datetimethen.strftime(\"Future is %d %B %H:%M:%S\"))"
      ]
    },
    {
      "cell_type": "code",
      "source": [
        "type(now)"
      ],
      "metadata": {
        "colab": {
          "base_uri": "https://localhost:8080/"
        },
        "id": "NtScke2Zla5K",
        "outputId": "36cfc38d-f7d6-454c-b545-e1290dba73af"
      },
      "execution_count": 30,
      "outputs": [
        {
          "output_type": "execute_result",
          "data": {
            "text/plain": [
              "datetime.datetime"
            ]
          },
          "metadata": {},
          "execution_count": 30
        }
      ]
    },
    {
      "cell_type": "code",
      "source": [
        "now.year"
      ],
      "metadata": {
        "colab": {
          "base_uri": "https://localhost:8080/"
        },
        "id": "e6MFeaAzmoS6",
        "outputId": "6f3e723e-e216-46b6-d4cc-76757269c1bd"
      },
      "execution_count": 31,
      "outputs": [
        {
          "output_type": "execute_result",
          "data": {
            "text/plain": [
              "2023"
            ]
          },
          "metadata": {},
          "execution_count": 31
        }
      ]
    },
    {
      "cell_type": "code",
      "source": [
        "datetimethen.isoformat()"
      ],
      "metadata": {
        "colab": {
          "base_uri": "https://localhost:8080/",
          "height": 35
        },
        "id": "3I2I87VimtwX",
        "outputId": "f5303f88-6775-4c3f-9a1a-9415411e2abb"
      },
      "execution_count": 33,
      "outputs": [
        {
          "output_type": "execute_result",
          "data": {
            "text/plain": [
              "'2023-06-19T12:56:40.173905'"
            ],
            "application/vnd.google.colaboratory.intrinsic+json": {
              "type": "string"
            }
          },
          "metadata": {},
          "execution_count": 33
        }
      ]
    }
  ]
}